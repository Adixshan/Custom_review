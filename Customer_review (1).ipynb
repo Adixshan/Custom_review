{
 "cells": [
  {
   "cell_type": "code",
   "execution_count": 9,
   "id": "d614a0f7-2b18-4fd1-8e38-070273c659a2",
   "metadata": {},
   "outputs": [
    {
     "name": "stdout",
     "output_type": "stream",
     "text": [
      "Accuracy: 0.8951\n",
      "              precision    recall  f1-score   support\n",
      "\n",
      "           0       0.90      0.88      0.89      4961\n",
      "           1       0.89      0.91      0.90      5039\n",
      "\n",
      "    accuracy                           0.90     10000\n",
      "   macro avg       0.90      0.90      0.90     10000\n",
      "weighted avg       0.90      0.90      0.90     10000\n",
      "\n"
     ]
    }
   ],
   "source": [
    "import pandas as pd\n",
    "import re\n",
    "import pickle\n",
    "import nltk\n",
    "from sklearn.model_selection import train_test_split\n",
    "from sklearn.feature_extraction.text import TfidfVectorizer\n",
    "from sklearn.linear_model import LogisticRegression\n",
    "from sklearn.metrics import accuracy_score, classification_report\n",
    "\n",
    "df = pd.read_csv(\"IMDB Dataset.csv\")  \n",
    "\n",
    "# Text Preprocessing Function\n",
    "def preprocess_text(text):\n",
    "    text = text.lower()\n",
    "    text = re.sub(r\"\\W\", \" \", text)  # Remove special characters\n",
    "    text = re.sub(r\"\\d\", \"\", text)   # Remove digits\n",
    "    text = re.sub(r\"\\s+\", \" \", text).strip()  # Remove extra spaces\n",
    "    return text\n",
    "\n",
    "df[\"review\"] = df[\"review\"].apply(preprocess_text)\n",
    "\n",
    "# Convert Labels to Binary (1: Positive, 0: Negative)\n",
    "df[\"sentiment\"] = df[\"sentiment\"].map({\"positive\": 1, \"negative\": 0})\n",
    "\n",
    "# Train-Test Split (80% training, 20% testing)\n",
    "X_train, X_test, y_train, y_test = train_test_split(df[\"review\"], df[\"sentiment\"], test_size=0.2, random_state=42)\n",
    "\n",
    "# Feature Extraction using TF-IDF\n",
    "vectorizer = TfidfVectorizer(max_features=5000)\n",
    "X_train_tfidf = vectorizer.fit_transform(X_train)\n",
    "X_test_tfidf = vectorizer.transform(X_test)\n",
    "\n",
    "# Train Logistic Regression Model\n",
    "model = LogisticRegression()\n",
    "model.fit(X_train_tfidf, y_train)\n",
    "\n",
    "# Save Model and Vectorizer\n",
    "with open(\"sentiment_model.pkl\", \"wb\") as model_file:\n",
    "    pickle.dump(model, model_file)\n",
    "\n",
    "with open(\"tfidf_vectorizer.pkl\", \"wb\") as vectorizer_file:\n",
    "    pickle.dump(vectorizer, vectorizer_file)\n",
    "\n",
    "# Model Evaluation\n",
    "y_pred = model.predict(X_test_tfidf)\n",
    "print(\"Accuracy:\", accuracy_score(y_test, y_pred))\n",
    "print(classification_report(y_test, y_pred))\n"
   ]
  },
  {
   "cell_type": "code",
   "execution_count": 8,
   "id": "862b09f2-9b16-4ab4-8af1-73e24d88a544",
   "metadata": {
    "scrolled": true
   },
   "outputs": [
    {
     "name": "stdin",
     "output_type": "stream",
     "text": [
      "Enter your review:  The movie is great.\n"
     ]
    },
    {
     "name": "stdout",
     "output_type": "stream",
     "text": [
      "Review: The movie is great.\n",
      "Predicted Sentiment: Positive\n",
      "\n"
     ]
    }
   ],
   "source": [
    "# Load the Saved Model and Vectorizer\n",
    "with open(\"sentiment_model.pkl\", \"rb\") as model_file:\n",
    "    loaded_model = pickle.load(model_file)\n",
    "\n",
    "with open(\"tfidf_vectorizer.pkl\", \"rb\") as vectorizer_file:\n",
    "    loaded_vectorizer = pickle.load(vectorizer_file)\n",
    "\n",
    "# Function to Predict Sentiment for New Reviews\n",
    "def predict_sentiment(new_reviews):\n",
    "    processed_reviews = [preprocess_text(review) for review in new_reviews]\n",
    "    transformed_reviews = loaded_vectorizer.transform(processed_reviews)\n",
    "    predictions = loaded_model.predict(transformed_reviews)\n",
    "    return [\"Positive\" if pred == 1 else \"Negative\" for pred in predictions]\n",
    "\n",
    "\n",
    "# Take user input for a review\n",
    "test_review = input(\"Enter your review: \")\n",
    "\n",
    "# Convert input to a list (since the function expects multiple reviews)\n",
    "test_reviews = [test_review]\n",
    "\n",
    "predicted_sentiments = predict_sentiment(test_reviews)\n",
    "\n",
    "# Print Results\n",
    "for review, sentiment in zip(test_reviews, predicted_sentiments):\n",
    "    print(f\"Review: {review}\\nPredicted Sentiment: {sentiment}\\n\")\n"
   ]
  },
  {
   "cell_type": "code",
   "execution_count": null,
   "id": "f768958e-fb8e-4779-b336-e71ba305ab07",
   "metadata": {},
   "outputs": [],
   "source": []
  }
 ],
 "metadata": {
  "kernelspec": {
   "display_name": "Python 3 (ipykernel)",
   "language": "python",
   "name": "python3"
  },
  "language_info": {
   "codemirror_mode": {
    "name": "ipython",
    "version": 3
   },
   "file_extension": ".py",
   "mimetype": "text/x-python",
   "name": "python",
   "nbconvert_exporter": "python",
   "pygments_lexer": "ipython3",
   "version": "3.11.1"
  }
 },
 "nbformat": 4,
 "nbformat_minor": 5
}
